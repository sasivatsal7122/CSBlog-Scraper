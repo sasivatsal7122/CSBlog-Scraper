{
 "cells": [
  {
   "cell_type": "code",
   "execution_count": 46,
   "id": "485b3b26",
   "metadata": {},
   "outputs": [],
   "source": [
    "import pyttsx3"
   ]
  },
  {
   "cell_type": "code",
   "execution_count": 47,
   "id": "d01dd8b2",
   "metadata": {},
   "outputs": [
    {
     "name": "stdout",
     "output_type": "stream",
     "text": [
      "Title: A Guide To Python For Beginners\n",
      " \n",
      " \n",
      " \n",
      " A Guide to Python for Beginners\n",
      " Python is one of the first languages many programmers learn as it is both simple and versatile. Python syntax is said to resemble English, which speaks to how easy it is to read and write. \n",
      " While Python itself is powerful, it can also be paired with a range of packages which will allow you to extend the language even further. The massive array of packages available span subjects like web development, data science and machine learning. \n",
      " You may have been told Python is just a language for beginners, but that’s not necessarily true: professionals use it in the field every day.\n",
      " Before you can go on to building complicated apps in Python, you must master the fundamentals. All it takes is the right investment of your time and energy. You’re in for a wild ride learning Python, but with the right courses you’ll be a master in just a few months.\n",
      " Python Strings\n",
      " Strings are an important part of any program. They allow you to work with text in your code. With a string, you can reverse its contents, change words, add words and more.\n",
      " Strings and Operators\n",
      " In this lesson, we walk through how to use string methods and concatenation in Python. This will allow you to manipulate the content of strings in your Python code.\n",
      " String Methods\n",
      " Often, when you’re working with strings, you’ll use a few specific common methods. This tutorial covers them and how they’re used.\n",
      " Python Conditionals\n",
      " Variables and conditionals are essential parts of programming. Variables allow you to store values in your code. Conditionals help you control when certain lines of your code should be executed and when they should be skipped.\n",
      " Booleans in Python\n",
      " Boolean variables are important in nearly every kind of programming—this video explains why they are one of the foundations of Python.\n",
      " If, Else, and Elif\n",
      " The “if” statement is a feature of almost every programming language. This statement will evaluate an expression and if that expression is true, the code in the statement will be executed. Else and Elif are two other conditional statements Python uses.\n",
      " Python Comparisons\n",
      " In addition to the above statements, Python also uses comparison statements to evaluate data. You can harness the power of comparisons to work with data—and so much more.\n",
      " Python Functions and Looping\n",
      " Python functions and loops are the key to many of the language’s most powerful uses. These tutorials go in-depth on functions and loops, two Python programming constructs that lead to clean, reusable, and maintainable code.\n",
      " Python Functions\n",
      " This video explores how to create functions in Python—what syntax to use, how to put it all together, and common uses and scenarios for Python functions.\n",
      " Exceptions In Your Code\n",
      " When you’re programming in any coding language, you’ll encounter unexpected situations. Here’s a starter guide on how to handle exceptions using Python. \n",
      " While Loops for Python\n",
      " Once you create a useful function, it’s best practice to loop it rather than have it typed out a bunch of times. One of the most common and simplest types of Python loops is “while.” Here’s what it does, and how to set it up.\n",
      " More Advanced Python Tutorials\n",
      " If you already knew some of the concepts mentioned above, that’s a good sign – it means you are on your way to mastery and can handle our advanced tutorials. Here are a few if you’re looking for a challenge:\n",
      " \n",
      " Python modeling via an ORM\n",
      " Data entry for a Python app\n",
      " Viewing and searching database entries\n",
      " Writing and running doctests in Python\n",
      " Quantitative assertions\n",
      " \n",
      " We’ve only scratched the surface of the Python programming language in this guide. If you’re looking to take the next step on your coding journey, check out the entirety of our Beginning Python Track.\n",
      " For more committed learners, we offer an immersive, project-based course designed to take you from zero-to-60. The Python Techdegree is a structured online learning program that will prepare you for a career in the tech industry. Learn in-demand skills, build awesome projects, and connect with a community via the Techdegree Slack.\n",
      " James Gallagher is a writer at Career Karma where he focuses on coding tutorials and technical articles. Find Treehouse’s page on Career Karma here. \n",
      "\n"
     ]
    }
   ],
   "source": [
    "with open(\"scraped blogs/Page-8/A Guide To Python For Beginners.doc\",'r',encoding=\"utf-8\") as fp:\n",
    "    string = fp.readlines()\n",
    "\n",
    "body = ' '.join([str(char) for char in string])\n",
    "\n",
    "print(body)"
   ]
  },
  {
   "cell_type": "code",
   "execution_count": 63,
   "id": "e9185f30",
   "metadata": {},
   "outputs": [],
   "source": [
    "engine = pyttsx3.init(\"sapi5\")\n",
    "engine.setProperty(\"rate\", 300)\n",
    "voices = engine.getProperty(\"voices\")\n",
    "engine.setProperty(\"voice\", voices[0].id)\n",
    "#engine.say(text)\n",
    "engine.save_to_file(body, \"pvoiceover.mp3\")\n",
    "engine.runAndWait()"
   ]
  },
  {
   "cell_type": "code",
   "execution_count": 64,
   "id": "eb11fefe",
   "metadata": {},
   "outputs": [
    {
     "name": "stdout",
     "output_type": "stream",
     "text": [
      "ffmpeg -stream_loop -1 -i S:\\kubuntu\\Data\\TreeHouse-CSBlog-Scraper\\preview.mp4 -i S:\\kubuntu\\Data\\TreeHouse-CSBlog-Scraper\\pvoiceover.mp3 -shortest -map 0:v:0 -map 1:a:0 -y S:\\kubuntu\\Data\\TreeHouse-CSBlog-Scraper\\output.mp4\n"
     ]
    }
   ],
   "source": [
    "import subprocess\n",
    "import os\n",
    "\n",
    "cwd = os.getcwd()\n",
    "cmd = f\"ffmpeg -stream_loop -1 -i {cwd}\\preview.mp4 -i {cwd}\\pvoiceover.mp3 -shortest -map 0:v:0 -map 1:a:0 -y {cwd}\\output.mp4\"\n",
    "print(cmd)"
   ]
  },
  {
   "cell_type": "code",
   "execution_count": null,
   "id": "5ba305a0",
   "metadata": {},
   "outputs": [],
   "source": []
  }
 ],
 "metadata": {
  "kernelspec": {
   "display_name": "Python 3 (ipykernel)",
   "language": "python",
   "name": "python3"
  },
  "language_info": {
   "codemirror_mode": {
    "name": "ipython",
    "version": 3
   },
   "file_extension": ".py",
   "mimetype": "text/x-python",
   "name": "python",
   "nbconvert_exporter": "python",
   "pygments_lexer": "ipython3",
   "version": "3.9.7"
  }
 },
 "nbformat": 4,
 "nbformat_minor": 5
}
