{
 "cells": [
  {
   "cell_type": "code",
   "execution_count": 156,
   "id": "2feddd43",
   "metadata": {},
   "outputs": [],
   "source": [
    "import requests\n",
    "from bs4 import BeautifulSoup as soup\n",
    "from urllib.request import Request, urlopen\n",
    "from pprint import pprint\n",
    "import re"
   ]
  },
  {
   "cell_type": "code",
   "execution_count": 157,
   "id": "623e1534",
   "metadata": {},
   "outputs": [
    {
     "name": "stdout",
     "output_type": "stream",
     "text": [
      "Enter page number to scrape from 2 to 209: 2\n"
     ]
    }
   ],
   "source": [
    "base_url = \"https://blog.teamtreehouse.com/page/\"\n",
    "\n",
    "treq = Request(base_url+'2', \n",
    "    headers={'User-Agent': 'Mozilla/5.0'}\n",
    ")\n",
    "twebpage = urlopen(treq).read()\n",
    "tpage_soup = soup(twebpage,'html.parser')\n",
    "\n",
    "no_of_pages = tpage_soup.find('p',{'class':'header-back-link'})\n",
    "temp = re.findall(r'\\d+', no_of_pages.text)\n",
    "pages_range = list(map(int, temp))\n",
    "\n",
    "page_no = str(input(f\"Enter page number to scrape from {pages_range[0]} to {pages_range[1]}: \"))\n",
    "base_url+=page_no\n",
    "req = Request(base_url, \n",
    "    headers={'User-Agent': 'Mozilla/5.0'}\n",
    ")\n",
    "webpage = urlopen(req).read()\n",
    "page_soup = soup(webpage,'html.parser')\n",
    "#print(page_soup)"
   ]
  },
  {
   "cell_type": "markdown",
   "id": "3c71a971",
   "metadata": {},
   "source": [
    "# Scraping Blog Heading and its short description"
   ]
  },
  {
   "cell_type": "code",
   "execution_count": 158,
   "id": "c6b383ef",
   "metadata": {
    "scrolled": false
   },
   "outputs": [
    {
     "name": "stdout",
     "output_type": "stream",
     "text": [
      "{'7 Best Node.js Project Ideas for Beginners': 'Note: This post was edited on '\n",
      "                                               '10/8/20 to more accurately '\n",
      "                                               'reflect Node.js’ '\n",
      "                                               'possibilities! Thanks to '\n",
      "                                               'Treehouse Instructor Reggie '\n",
      "                                               'Williams for the updates. '\n",
      "                                               'Node.js is a completely free, '\n",
      "                                               'open source server platform. '\n",
      "                                               'Not only is it used for making '\n",
      "                                               'simple websites,…',\n",
      " 'Build a JavaScript Tip Calculator': 'Ever found yourself at a restaurant '\n",
      "                                      'wishing you could figure out how to '\n",
      "                                      'split the bill with your friends or '\n",
      "                                      'family? Building a calculator that can '\n",
      "                                      'handle that isn’t as hard as you think! '\n",
      "                                      'I am going to take you…',\n",
      " 'Flask vs. Django – Which Framework to Learn First?': 'As a beginning coder, '\n",
      "                                                       'you’ve likely heard '\n",
      "                                                       'that Python is known '\n",
      "                                                       'as one of the easiest '\n",
      "                                                       'programming languages '\n",
      "                                                       'to learn. It has a '\n",
      "                                                       'number of web '\n",
      "                                                       'frameworks to help you '\n",
      "                                                       'build functional and '\n",
      "                                                       'scalable websites and '\n",
      "                                                       'applications.\\xa0 '\n",
      "                                                       'Django and Flask…',\n",
      " 'Getting Started With TypeScript (With Examples)': 'TypeScript is a '\n",
      "                                                    'programming language that '\n",
      "                                                    'is great for large-scale '\n",
      "                                                    'JavaScript projects. It’s '\n",
      "                                                    'essentially JavaScript '\n",
      "                                                    'with optional typing, and '\n",
      "                                                    'because it’s a compiled '\n",
      "                                                    'language, it’s not '\n",
      "                                                    'interpreted on '\n",
      "                                                    'run-time.\\xa0The '\n",
      "                                                    'TypeScript compiler takes '\n",
      "                                                    'TypeScript files (.ts) '\n",
      "                                                    'and compiles them in to…',\n",
      " 'Gulp for Beginners': 'Setting up gulp using gulp.js Introduction to gulp.js '\n",
      "                       'What is gulp? According to their homepage '\n",
      "                       '(gulpjs.com), it’s\\xa0a toolkit to automate & enhance '\n",
      "                       'your workflow.\\xa0What exactly does that mean? Well, '\n",
      "                       'for medium to large-sized projects you may want to '\n",
      "                       'have a…',\n",
      " 'How to Become a Full-Stack Developer [Complete Guide]': 'About 55% of '\n",
      "                                                          'developers are in '\n",
      "                                                          'the full-stack '\n",
      "                                                          'category, '\n",
      "                                                          'seamlessly taking '\n",
      "                                                          'care of both the '\n",
      "                                                          'front-end and '\n",
      "                                                          'server-side of a '\n",
      "                                                          'website. And you’re '\n",
      "                                                          'looking to learn '\n",
      "                                                          'more about how to '\n",
      "                                                          'start. But with '\n",
      "                                                          'over 112 million '\n",
      "                                                          'results on “how to…',\n",
      " 'How to Load an Image With Async JavaScript': 'There may come a time where '\n",
      "                                               'you want to download an image '\n",
      "                                               'in the background instead of '\n",
      "                                               'seeing it load like this… '\n",
      "                                               '…have it load like this: '\n",
      "                                               'Overview Whether you have an '\n",
      "                                               'image gallery with high-res '\n",
      "                                               'images, or you’re creating…',\n",
      " 'Interview tips and tricks for junior developers': 'You’ve got your first '\n",
      "                                                    'interview as a junior '\n",
      "                                                    'developer? '\n",
      "                                                    'Congratulations! You’ve '\n",
      "                                                    'put in a lot of hard work '\n",
      "                                                    'to get this far, and '\n",
      "                                                    'we’re going to help guide '\n",
      "                                                    'you through the interview '\n",
      "                                                    'process you’re about to '\n",
      "                                                    'embark on. One of…',\n",
      " 'Is a Treehouse Techdegree Worth It?': 'As a novice web developer or aspiring '\n",
      "                                        'coder who wants to build '\n",
      "                                        'high-performing software applications '\n",
      "                                        'and websites, you’re likely out there '\n",
      "                                        'looking for great courses you can '\n",
      "                                        'take. With the numerous online course '\n",
      "                                        'programs at Treehouse for developing '\n",
      "                                        'skills in…',\n",
      " 'Should I Learn HTML Before Python?': 'HTML and Python are two of the most '\n",
      "                                       'popular coding languages besides '\n",
      "                                       'JavaScript, and are highly relevant to '\n",
      "                                       'most development projects. \\xa0 \\xa0'\n",
      "                                       'Stack Overflow 2021 Survey However, '\n",
      "                                       'deciding whether to learn HTML or '\n",
      "                                       'Python first can be a tough decision…',\n",
      " 'Software Developer vs. Full-Stack Developer: Key Differences': 'According to '\n",
      "                                                                 'Stack '\n",
      "                                                                 'Overflow '\n",
      "                                                                 'Developer '\n",
      "                                                                 'Survey 2021, '\n",
      "                                                                 'full-stack '\n",
      "                                                                 'developers '\n",
      "                                                                 'were up to '\n",
      "                                                                 '49% of the '\n",
      "                                                                 'population '\n",
      "                                                                 'of more than '\n",
      "                                                                 '66,000 '\n",
      "                                                                 'developers. '\n",
      "                                                                 'That’s '\n",
      "                                                                 'almost half! '\n",
      "                                                                 'Additionally, '\n",
      "                                                                 'software '\n",
      "                                                                 'developers '\n",
      "                                                                 'made up more '\n",
      "                                                                 'than 38% of '\n",
      "                                                                 'the '\n",
      "                                                                 'population. '\n",
      "                                                                 'While both '\n",
      "                                                                 'are popular, '\n",
      "                                                                 'it’s…',\n",
      " 'Treehouse vs. Codecademy: What’s the Difference?\\xa0[Guide]': 'Every '\n",
      "                                                                'developer '\n",
      "                                                                'looking for '\n",
      "                                                                'coding '\n",
      "                                                                'courses wants '\n",
      "                                                                'one that '\n",
      "                                                                'offers '\n",
      "                                                                'in-depth '\n",
      "                                                                'knowledge and '\n",
      "                                                                'an excellent '\n",
      "                                                                'learning '\n",
      "                                                                'experience. '\n",
      "                                                                'Treehouse and '\n",
      "                                                                'Codecademy '\n",
      "                                                                'are '\n",
      "                                                                'subscription-based '\n",
      "                                                                'online '\n",
      "                                                                'platforms '\n",
      "                                                                'that provide '\n",
      "                                                                'coding '\n",
      "                                                                'courses. Both '\n",
      "                                                                'Treehouse and '\n",
      "                                                                'Codecademy '\n",
      "                                                                'offer tech '\n",
      "                                                                'development '\n",
      "                                                                'programs that '\n",
      "                                                                'cater to '\n",
      "                                                                'developers…'}\n"
     ]
    }
   ],
   "source": [
    "blog_heading = page_soup.find_all('h3')\n",
    "blog_heading_ls = []\n",
    "for heading in blog_heading:\n",
    "    blog_heading_ls.append(heading.text.strip())\n",
    "#pprint(blog_heading_ls)\n",
    "\n",
    "\n",
    "blog_desc = page_soup.find_all('div',{'class':'excerpt'})\n",
    "blog_desc_ls = []\n",
    "for text in blog_desc:\n",
    "    desc = text.find_all('p')\n",
    "    blog_desc_ls.append(desc[0].text.strip())\n",
    "#pprint(blog_desc_ls)\n",
    "\n",
    "\n",
    "blog_heading_desc = dict(zip(blog_heading_ls,blog_desc_ls))\n",
    "\n",
    "pprint(blog_heading_desc)"
   ]
  },
  {
   "cell_type": "markdown",
   "id": "3374c85b",
   "metadata": {},
   "source": [
    "# Scraping Blog Hyperlinks"
   ]
  },
  {
   "cell_type": "code",
   "execution_count": 159,
   "id": "0469fcfd",
   "metadata": {},
   "outputs": [
    {
     "name": "stdout",
     "output_type": "stream",
     "text": [
      "{'7 Best Node.js Project Ideas for Beginners': 'https://blog.teamtreehouse.com/7-awesome-things-can-build-node-js',\n",
      " 'Build a JavaScript Tip Calculator': 'https://blog.teamtreehouse.com/build-a-javascript-tip-calculator',\n",
      " 'Flask vs. Django – Which Framework to Learn First?': 'https://blog.teamtreehouse.com/flask-vs-django',\n",
      " 'Getting Started With TypeScript (With Examples)': 'https://blog.teamtreehouse.com/getting-started-typescript',\n",
      " 'Gulp for Beginners': 'https://blog.teamtreehouse.com/gulpfile-setup',\n",
      " 'How to Become a Full-Stack Developer [Complete Guide]': 'https://blog.teamtreehouse.com/how-to-become-a-full-stack-developer',\n",
      " 'How to Load an Image With Async JavaScript': 'https://blog.teamtreehouse.com/learn-asynchronous-image-loading-javascript',\n",
      " 'Interview tips and tricks for junior developers': 'https://blog.teamtreehouse.com/interview-tips-and-tricks-for-junior-developers',\n",
      " 'Is a Treehouse Techdegree Worth It?': 'https://blog.teamtreehouse.com/is-treehouse-worth-it',\n",
      " 'Should I Learn HTML Before Python?': 'https://blog.teamtreehouse.com/should-i-learn-html-before-python',\n",
      " 'Software Developer vs. Full-Stack Developer: Key Differences': 'https://blog.teamtreehouse.com/software-developer-vs-full-stack-developer',\n",
      " 'Treehouse vs. Codecademy: What’s the Difference?\\xa0[Guide]': 'https://blog.teamtreehouse.com/treehouse-vs-codecademy'}\n"
     ]
    }
   ],
   "source": [
    "blog_hyperlinks = page_soup.find_all('article',{'class':'excerpt'})\n",
    "blog_hyperlinks_ls = []\n",
    "for text in blog_hyperlinks:\n",
    "    links = text.find_all('a')\n",
    "    for text in links:\n",
    "        hrefText = (text['href'])\n",
    "        blog_hyperlinks_ls.append(hrefText)\n",
    "\n",
    "blog_title_hyperlink = dict(zip(blog_heading_ls,blog_hyperlinks_ls))\n",
    "pprint(blog_title_hyperlink)"
   ]
  },
  {
   "cell_type": "code",
   "execution_count": 164,
   "id": "9472d126",
   "metadata": {},
   "outputs": [
    {
     "name": "stdout",
     "output_type": "stream",
     "text": [
      "Enter Blog Number to scrape: 5\n",
      "https://blog.teamtreehouse.com/flask-vs-django\n"
     ]
    }
   ],
   "source": [
    "choose_blog = int(input(\"Enter Blog Number to scrape: \"))\n",
    "choosen_blog_link = blog_title_hyperlink[blog_heading_ls[choose_blog-1]]\n",
    "print(choosen_blog_link)"
   ]
  },
  {
   "cell_type": "markdown",
   "id": "56568f04",
   "metadata": {},
   "source": [
    "# Scraping the blog content"
   ]
  },
  {
   "cell_type": "code",
   "execution_count": 165,
   "id": "c0e5feb8",
   "metadata": {},
   "outputs": [],
   "source": [
    "req = Request(choosen_blog_link, \n",
    "    headers={'User-Agent': 'Mozilla/5.0'}\n",
    ")\n",
    "webpage = urlopen(req).read()\n",
    "blog_soup = soup(webpage,'html.parser')\n",
    "#print(blog_soup)"
   ]
  },
  {
   "cell_type": "code",
   "execution_count": 166,
   "id": "4bc10784",
   "metadata": {},
   "outputs": [],
   "source": [
    "blog_content_div = blog_soup.find_all('div',{'class':'content-cta'})\n",
    "for text in blog_content_div:\n",
    "    blog_content = text.find('div')\n",
    "    break\n",
    "Title = blog_heading_ls[choose_blog-1]\n",
    "Title = Title.replace(\"?\",\"\")\n",
    "with open(f\"blog texts/{Title}.html\",'w',encoding=\"utf-8\") as fp:\n",
    "    fp.write(str(blog_soup.prettify()))\n",
    "# blog_content_string  = \"\"\n",
    "# blog_content_string+=\"Title: \"+Title+ \"\\n\\n\\n\"+blog_content.text\n",
    "# with open(f\"blog texts/{Title}.doc\",'w') as fp:\n",
    "#     fp.writelines(blog_content_string)\n",
    "# print(blog_content_string)"
   ]
  },
  {
   "cell_type": "code",
   "execution_count": null,
   "id": "99ab9bb4",
   "metadata": {},
   "outputs": [],
   "source": []
  },
  {
   "cell_type": "code",
   "execution_count": null,
   "id": "93092b73",
   "metadata": {},
   "outputs": [],
   "source": []
  },
  {
   "cell_type": "code",
   "execution_count": null,
   "id": "af612761",
   "metadata": {},
   "outputs": [],
   "source": []
  }
 ],
 "metadata": {
  "kernelspec": {
   "display_name": "Python 3 (ipykernel)",
   "language": "python",
   "name": "python3"
  },
  "language_info": {
   "codemirror_mode": {
    "name": "ipython",
    "version": 3
   },
   "file_extension": ".py",
   "mimetype": "text/x-python",
   "name": "python",
   "nbconvert_exporter": "python",
   "pygments_lexer": "ipython3",
   "version": "3.9.7"
  }
 },
 "nbformat": 4,
 "nbformat_minor": 5
}
